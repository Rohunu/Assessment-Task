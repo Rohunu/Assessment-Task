{
  "nbformat": 4,
  "nbformat_minor": 0,
  "metadata": {
    "colab": {
      "provenance": [],
      "authorship_tag": "ABX9TyNYDNgCMxDJKjvgezwfUu9Y",
      "include_colab_link": true
    },
    "kernelspec": {
      "name": "python3",
      "display_name": "Python 3"
    },
    "language_info": {
      "name": "python"
    }
  },
  "cells": [
    {
      "cell_type": "markdown",
      "metadata": {
        "id": "view-in-github",
        "colab_type": "text"
      },
      "source": [
        "<a href=\"https://colab.research.google.com/github/Rohunu/Assessment-Task/blob/main/README_md.ipynb\" target=\"_parent\"><img src=\"https://colab.research.google.com/assets/colab-badge.svg\" alt=\"Open In Colab\"/></a>"
      ]
    },
    {
      "cell_type": "code",
      "execution_count": null,
      "metadata": {
        "id": "gTduRH1ATlrT"
      },
      "outputs": [],
      "source": [
        "# Image Classification API\n",
        "\n",
        "## Overview\n",
        "This project builds an image classification model using CIFAR-10 and deploys it as a REST API.\n",
        "\n",
        "## Part 1: Data Preprocessing\n",
        "- Loaded CIFAR-10 (32x32 RGB images, 10 classes).\n",
        "- Normalized pixels (0-1), augmented with rotation, flips, and shifts.\n",
        "- Split into train (80%), validation (20%), and test sets.\n",
        "\n",
        "## Part 2: Model Selection & Optimization\n",
        "- Chose ResNet-50 (pre-trained on ImageNet) for transfer learning, froze base layers.\n",
        "- Added custom layers: Flatten, Dense(256, ReLU), Dropout(0.5), Dense(10, softmax).\n",
        "- Trained with Adam (lr=0.0001), early stopping (patience=3), and categorical crossentropy.\n",
        "- Achieved ~75-80% test accuracy, with precision, recall, and confusion matrix evaluated.\n",
        "\n",
        "## Part 3: Deployment Strategy\n",
        "- Built a FastAPI app with `/predict` endpoint and basic authentication (admin:password123).\n",
        "- Containerized with Docker for consistent deployment.\n",
        "- Tested via CURL/Postman with image uploads.\n",
        "\n",
        "## API Usage\n",
        "- **Endpoint**: `/predict`\n",
        "- **Method**: POST\n",
        "- **Headers**: Basic Auth (username: `admin`, password: `password123`)\n",
        "- **Input**: 32x32 RGB image file\n",
        "- **Output**: `{\"prediction\": \"class_name\"}`\n",
        "- **Run Locally**: `uvicorn app:app --host 0.0.0.0 --port 8000`\n",
        "- **Docker**: `docker build -t image_classifier . && docker run -p 8000:8000 image_classifier`"
      ]
    }
  ]
}